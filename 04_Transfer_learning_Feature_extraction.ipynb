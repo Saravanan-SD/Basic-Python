{
  "nbformat": 4,
  "nbformat_minor": 0,
  "metadata": {
    "colab": {
      "provenance": [],
      "gpuType": "T4",
      "authorship_tag": "ABX9TyMYxV+8+iL6aZWnsFeNwDwq",
      "include_colab_link": true
    },
    "kernelspec": {
      "name": "python3",
      "display_name": "Python 3"
    },
    "language_info": {
      "name": "python"
    },
    "accelerator": "GPU"
  },
  "cells": [
    {
      "cell_type": "markdown",
      "metadata": {
        "id": "view-in-github",
        "colab_type": "text"
      },
      "source": [
        "<a href=\"https://colab.research.google.com/github/Saravanan-SD/Basic-Python/blob/main/04_Transfer_learning_Feature_extraction.ipynb\" target=\"_parent\"><img src=\"https://colab.research.google.com/assets/colab-badge.svg\" alt=\"Open In Colab\"/></a>"
      ]
    },
    {
      "cell_type": "code",
      "execution_count": null,
      "metadata": {
        "colab": {
          "base_uri": "https://localhost:8080/"
        },
        "id": "3lcZEqOkK42p",
        "outputId": "dae8b697-4b3c-47fb-dd7c-a0101f746d5d"
      },
      "outputs": [
        {
          "output_type": "stream",
          "name": "stdout",
          "text": [
            "--2023-06-12 10:18:01--  https://storage.googleapis.com/ztm_tf_course/food_vision/10_food_classes_10_percent.zip\n",
            "Resolving storage.googleapis.com (storage.googleapis.com)... 108.177.127.128, 172.217.218.128, 142.250.153.128, ...\n",
            "Connecting to storage.googleapis.com (storage.googleapis.com)|108.177.127.128|:443... connected.\n",
            "HTTP request sent, awaiting response... 200 OK\n",
            "Length: 168546183 (161M) [application/zip]\n",
            "Saving to: ‘10_food_classes_10_percent.zip.1’\n",
            "\n",
            "10_food_classes_10_ 100%[===================>] 160.74M  39.0MB/s    in 4.7s    \n",
            "\n",
            "2023-06-12 10:18:06 (34.2 MB/s) - ‘10_food_classes_10_percent.zip.1’ saved [168546183/168546183]\n",
            "\n"
          ]
        }
      ],
      "source": [
        "import zipfile\n",
        "\n",
        "!wget https://storage.googleapis.com/ztm_tf_course/food_vision/10_food_classes_10_percent.zip\n",
        "\n",
        "zip_ref= zipfile.ZipFile(\"10_food_classes_10_percent.zip\")\n",
        "\n",
        "zip_ref.extractall()\n",
        "\n",
        "zip_ref.close()\n"
      ]
    },
    {
      "cell_type": "code",
      "source": [
        "import os\n",
        "\n",
        "for dirpath, dirnames, filenames in os.walk(\"10_food_classes_10_percent\"):\n",
        "  print(f\"There are {len(dirnames)} directory and {len(filenames)} images in {dirpath}\")"
      ],
      "metadata": {
        "colab": {
          "base_uri": "https://localhost:8080/"
        },
        "id": "ItWo8ym1MoX7",
        "outputId": "9d5ad3b4-45e5-4a71-ffe8-3868727725f3"
      },
      "execution_count": null,
      "outputs": [
        {
          "output_type": "stream",
          "name": "stdout",
          "text": [
            "There are 2 directory and 0 images in 10_food_classes_10_percent\n",
            "There are 10 directory and 0 images in 10_food_classes_10_percent/test\n",
            "There are 0 directory and 250 images in 10_food_classes_10_percent/test/hamburger\n",
            "There are 0 directory and 250 images in 10_food_classes_10_percent/test/ramen\n",
            "There are 0 directory and 250 images in 10_food_classes_10_percent/test/sushi\n",
            "There are 0 directory and 250 images in 10_food_classes_10_percent/test/ice_cream\n",
            "There are 0 directory and 250 images in 10_food_classes_10_percent/test/steak\n",
            "There are 0 directory and 250 images in 10_food_classes_10_percent/test/chicken_curry\n",
            "There are 0 directory and 250 images in 10_food_classes_10_percent/test/fried_rice\n",
            "There are 0 directory and 250 images in 10_food_classes_10_percent/test/grilled_salmon\n",
            "There are 0 directory and 250 images in 10_food_classes_10_percent/test/pizza\n",
            "There are 0 directory and 250 images in 10_food_classes_10_percent/test/chicken_wings\n",
            "There are 10 directory and 0 images in 10_food_classes_10_percent/train\n",
            "There are 0 directory and 75 images in 10_food_classes_10_percent/train/hamburger\n",
            "There are 0 directory and 75 images in 10_food_classes_10_percent/train/ramen\n",
            "There are 0 directory and 75 images in 10_food_classes_10_percent/train/sushi\n",
            "There are 0 directory and 75 images in 10_food_classes_10_percent/train/ice_cream\n",
            "There are 0 directory and 75 images in 10_food_classes_10_percent/train/steak\n",
            "There are 0 directory and 75 images in 10_food_classes_10_percent/train/chicken_curry\n",
            "There are 0 directory and 75 images in 10_food_classes_10_percent/train/fried_rice\n",
            "There are 0 directory and 75 images in 10_food_classes_10_percent/train/grilled_salmon\n",
            "There are 0 directory and 75 images in 10_food_classes_10_percent/train/pizza\n",
            "There are 0 directory and 75 images in 10_food_classes_10_percent/train/chicken_wings\n"
          ]
        }
      ]
    },
    {
      "cell_type": "code",
      "source": [
        "from tensorflow.keras.preprocessing.image import ImageDataGenerator\n",
        "\n",
        "IMAGE_SHAPE= (224,224)\n",
        "BATCH_SIZE=32\n",
        "\n",
        "train_dir=\"10_food_classes_10_percent/train/\"\n",
        "\n",
        "test_dir=\"10_food_classes_10_percent/test/\"\n",
        "\n",
        "train_datagen= ImageDataGenerator(rescale=1/255.)\n",
        "\n",
        "test_datagen= ImageDataGenerator(rescale=1/255.)\n",
        "\n",
        "train_data10= train_datagen.flow_from_directory(train_dir,\n",
        "                                                target_size=IMAGE_SHAPE,\n",
        "                                                batch_size=BATCH_SIZE,\n",
        "                                                class_mode=\"categorical\")\n",
        "\n",
        "test_data= test_datagen.flow_from_directory(test_dir,\n",
        "                                           target_size=IMAGE_SHAPE,\n",
        "                                           batch_size=BATCH_SIZE,\n",
        "                                           class_mode=\"categorical\")"
      ],
      "metadata": {
        "colab": {
          "base_uri": "https://localhost:8080/"
        },
        "id": "jKyr7xCoNdOe",
        "outputId": "22d63417-d072-4074-bb55-c44ca340f9bf"
      },
      "execution_count": null,
      "outputs": [
        {
          "output_type": "stream",
          "name": "stdout",
          "text": [
            "Found 750 images belonging to 10 classes.\n",
            "Found 2500 images belonging to 10 classes.\n"
          ]
        }
      ]
    },
    {
      "cell_type": "code",
      "source": [
        "import datetime\n",
        "import tensorflow as tf\n",
        "\n",
        "def create_tensorboard_callbacks(dir_name, experiment_name):\n",
        "\n",
        "  log_dir =dir_name + \"/\" + experiment_name + \"/\" + datetime.datetime.now().strftime(\"%d%m%y-%H%M%S\")\n",
        "  tensorboard_callbacks =tf.keras.callbacks.TensorBoard(log_dir=log_dir)\n",
        "  print(f\"Saving Tensorboard log files to: {log_dir}\")\n",
        "  return tensorboard_callbacks"
      ],
      "metadata": {
        "id": "S5ltnlmOS82J"
      },
      "execution_count": null,
      "outputs": []
    },
    {
      "cell_type": "code",
      "source": [
        "resnet_url= \"https://tfhub.dev/google/imagenet/resnet_v2_50/feature_vector/4\"\n",
        "\n",
        "efficientnet_url=  \"https://tfhub.dev/tensorflow/efficientnet/b0/feature-vector/1\"\n",
        "\n",
        "\n"
      ],
      "metadata": {
        "id": "aHu1GCN8YHBT"
      },
      "execution_count": null,
      "outputs": []
    },
    {
      "cell_type": "code",
      "source": [
        "import tensorflow as tf\n",
        "import tensorflow_hub as hub\n",
        "\n"
      ],
      "metadata": {
        "id": "jrXRn2tFAxGx"
      },
      "execution_count": null,
      "outputs": []
    },
    {
      "cell_type": "code",
      "source": [
        "from tensorflow.keras import layers"
      ],
      "metadata": {
        "id": "rQyef39FIf1U"
      },
      "execution_count": null,
      "outputs": []
    },
    {
      "cell_type": "code",
      "source": [
        "\n",
        "def create_model(model_url,num_classes=[10]):\n",
        "  feature_extraction_layer= hub.KerasLayer(model_url,\n",
        "                                         trainable=False,\n",
        "                                         name=\"feature_extraction_layer\",\n",
        "                                         input_shape=IMAGE_SHAPE+ (3,))\n",
        "  \n",
        "  model= tf.keras.Sequential([\n",
        "      feature_extraction_layer,\n",
        "      layers.Dense(num_classes,activation=\"softmax\", name=\"Output_layer\")\n",
        "  ])\n",
        "\n",
        "  return model"
      ],
      "metadata": {
        "id": "pAraNhchBR9t"
      },
      "execution_count": null,
      "outputs": []
    },
    {
      "cell_type": "code",
      "source": [],
      "metadata": {
        "id": "nP9Ixj1DIe99"
      },
      "execution_count": null,
      "outputs": []
    },
    {
      "cell_type": "code",
      "source": [
        "resnet_model = create_model(resnet_url,\n",
        "                            num_classes=train_data10.num_classes)"
      ],
      "metadata": {
        "id": "9rhqwBvLDb-_"
      },
      "execution_count": null,
      "outputs": []
    },
    {
      "cell_type": "code",
      "source": [
        "resnet_model.compile(loss=\"categorical_crossentropy\",\n",
        "                     optimizer= tf.keras.optimizers.Adam(),\n",
        "                     metrics=['accuracy'])"
      ],
      "metadata": {
        "id": "ndlfoaUPD8kW"
      },
      "execution_count": null,
      "outputs": []
    },
    {
      "cell_type": "code",
      "source": [
        "resnet_model.summary()"
      ],
      "metadata": {
        "colab": {
          "base_uri": "https://localhost:8080/"
        },
        "id": "6p9GgjphEfnT",
        "outputId": "d00efa80-7247-4f0d-cd55-e699b47cea6c"
      },
      "execution_count": null,
      "outputs": [
        {
          "output_type": "stream",
          "name": "stdout",
          "text": [
            "Model: \"sequential_5\"\n",
            "_________________________________________________________________\n",
            " Layer (type)                Output Shape              Param #   \n",
            "=================================================================\n",
            " feature_extraction_layer (K  (None, 2048)             23564800  \n",
            " erasLayer)                                                      \n",
            "                                                                 \n",
            " Output_layer (Dense)        (None, 10)                20490     \n",
            "                                                                 \n",
            "=================================================================\n",
            "Total params: 23,585,290\n",
            "Trainable params: 20,490\n",
            "Non-trainable params: 23,564,800\n",
            "_________________________________________________________________\n"
          ]
        }
      ]
    },
    {
      "cell_type": "code",
      "source": [
        "resnet_model.fit(train_data10,\n",
        "                 epochs=5,\n",
        "                 steps_per_epoch=len(train_data10),\n",
        "                 validation_data= test_data,\n",
        "                 validation_steps= len(test_data),\n",
        "                 callbacks=create_tensorboard_callbacks(dir_name=\"/content/Untitled Folder\",\n",
        "                                                        experiment_name=\"resnet test 01\"))"
      ],
      "metadata": {
        "colab": {
          "base_uri": "https://localhost:8080/"
        },
        "id": "gMEK9R3RJh3T",
        "outputId": "fb8f8333-80b0-405d-b2b4-228708d89aae"
      },
      "execution_count": null,
      "outputs": [
        {
          "output_type": "stream",
          "name": "stdout",
          "text": [
            "Saving Tensorboard log files to: /content/Untitled Folder/resnet test 01/120623-103544\n",
            "Epoch 1/5\n",
            "24/24 [==============================] - 20s 815ms/step - loss: 0.4222 - accuracy: 0.8987 - val_loss: 0.6899 - val_accuracy: 0.7752\n",
            "Epoch 2/5\n",
            "24/24 [==============================] - 18s 785ms/step - loss: 0.3524 - accuracy: 0.9187 - val_loss: 0.6769 - val_accuracy: 0.7748\n",
            "Epoch 3/5\n",
            "24/24 [==============================] - 19s 806ms/step - loss: 0.2837 - accuracy: 0.9453 - val_loss: 0.6478 - val_accuracy: 0.7848\n",
            "Epoch 4/5\n",
            "24/24 [==============================] - 18s 779ms/step - loss: 0.2451 - accuracy: 0.9587 - val_loss: 0.6457 - val_accuracy: 0.7812\n",
            "Epoch 5/5\n",
            "24/24 [==============================] - 18s 772ms/step - loss: 0.2069 - accuracy: 0.9720 - val_loss: 0.6254 - val_accuracy: 0.7896\n"
          ]
        },
        {
          "output_type": "execute_result",
          "data": {
            "text/plain": [
              "<keras.callbacks.History at 0x7fbf400ea380>"
            ]
          },
          "metadata": {},
          "execution_count": 53
        }
      ]
    },
    {
      "cell_type": "code",
      "source": [],
      "metadata": {
        "id": "f-coAwFgKWeE"
      },
      "execution_count": null,
      "outputs": []
    }
  ]
}