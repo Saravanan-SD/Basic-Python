{
  "nbformat": 4,
  "nbformat_minor": 0,
  "metadata": {
    "colab": {
      "provenance": [],
      "gpuType": "T4",
      "authorship_tag": "ABX9TyNZXRJ1ENaOx7yHvprB/vZE",
      "include_colab_link": true
    },
    "kernelspec": {
      "name": "python3",
      "display_name": "Python 3"
    },
    "language_info": {
      "name": "python"
    },
    "accelerator": "GPU"
  },
  "cells": [
    {
      "cell_type": "markdown",
      "metadata": {
        "id": "view-in-github",
        "colab_type": "text"
      },
      "source": [
        "<a href=\"https://colab.research.google.com/github/Saravanan-SD/Basic-Python/blob/main/05_transfer_learning_fine_tune.ipynb\" target=\"_parent\"><img src=\"https://colab.research.google.com/assets/colab-badge.svg\" alt=\"Open In Colab\"/></a>"
      ]
    },
    {
      "cell_type": "code",
      "execution_count": 4,
      "metadata": {
        "colab": {
          "base_uri": "https://localhost:8080/"
        },
        "id": "BIzgkRCDGCBE",
        "outputId": "c9c74b2b-2db3-4933-c5a7-b1a5b1900fce"
      },
      "outputs": [
        {
          "output_type": "stream",
          "name": "stdout",
          "text": [
            "--2023-06-14 04:25:55--  https://raw.githubusercontent.com/mrdbourke/tensorflow-deep-learning/main/extras/helper_functions.py\n",
            "Resolving raw.githubusercontent.com (raw.githubusercontent.com)... 185.199.109.133, 185.199.111.133, 185.199.108.133, ...\n",
            "Connecting to raw.githubusercontent.com (raw.githubusercontent.com)|185.199.109.133|:443... connected.\n",
            "HTTP request sent, awaiting response... 200 OK\n",
            "Length: 10246 (10K) [text/plain]\n",
            "Saving to: ‘helper_functions.py.1’\n",
            "\n",
            "\rhelper_functions.py   0%[                    ]       0  --.-KB/s               \rhelper_functions.py 100%[===================>]  10.01K  --.-KB/s    in 0s      \n",
            "\n",
            "2023-06-14 04:25:56 (40.8 MB/s) - ‘helper_functions.py.1’ saved [10246/10246]\n",
            "\n"
          ]
        }
      ],
      "source": [
        "!wget https://raw.githubusercontent.com/mrdbourke/tensorflow-deep-learning/main/extras/helper_functions.py"
      ]
    },
    {
      "cell_type": "code",
      "source": [
        "import tensorflow as tf\n",
        "from helper_functions import create_tensorboard_callback, plot_loss_curves, unzip_data, walk_through_dir\n"
      ],
      "metadata": {
        "id": "K-3OqutwPUFY"
      },
      "execution_count": 5,
      "outputs": []
    },
    {
      "cell_type": "code",
      "source": [
        "!wget https://storage.googleapis.com/ztm_tf_course/food_vision/10_food_classes_10_percent.zip\n",
        "\n",
        "unzip_data(\"10_food_classes_10_percent.zip\")"
      ],
      "metadata": {
        "colab": {
          "base_uri": "https://localhost:8080/"
        },
        "id": "vC3U1UsIPpgJ",
        "outputId": "02fb7c2d-9d72-4b69-dbce-696b7c821bdc"
      },
      "execution_count": 6,
      "outputs": [
        {
          "output_type": "stream",
          "name": "stdout",
          "text": [
            "--2023-06-14 04:25:57--  https://storage.googleapis.com/ztm_tf_course/food_vision/10_food_classes_10_percent.zip\n",
            "Resolving storage.googleapis.com (storage.googleapis.com)... 142.251.2.128, 74.125.137.128, 142.250.141.128, ...\n",
            "Connecting to storage.googleapis.com (storage.googleapis.com)|142.251.2.128|:443... connected.\n",
            "HTTP request sent, awaiting response... 200 OK\n",
            "Length: 168546183 (161M) [application/zip]\n",
            "Saving to: ‘10_food_classes_10_percent.zip.1’\n",
            "\n",
            "10_food_classes_10_ 100%[===================>] 160.74M   194MB/s    in 0.8s    \n",
            "\n",
            "2023-06-14 04:25:58 (194 MB/s) - ‘10_food_classes_10_percent.zip.1’ saved [168546183/168546183]\n",
            "\n"
          ]
        }
      ]
    },
    {
      "cell_type": "code",
      "source": [
        "walk_through_dir(\"10_food_classes_10_percent\")"
      ],
      "metadata": {
        "id": "AF48ynXsRVqc",
        "colab": {
          "base_uri": "https://localhost:8080/"
        },
        "outputId": "b1db6e8f-dcef-4dd6-f4f9-327155ec4d7d"
      },
      "execution_count": 7,
      "outputs": [
        {
          "output_type": "stream",
          "name": "stdout",
          "text": [
            "There are 2 directories and 0 images in '10_food_classes_10_percent'.\n",
            "There are 10 directories and 0 images in '10_food_classes_10_percent/test'.\n",
            "There are 0 directories and 250 images in '10_food_classes_10_percent/test/hamburger'.\n",
            "There are 0 directories and 250 images in '10_food_classes_10_percent/test/fried_rice'.\n",
            "There are 0 directories and 250 images in '10_food_classes_10_percent/test/pizza'.\n",
            "There are 0 directories and 250 images in '10_food_classes_10_percent/test/steak'.\n",
            "There are 0 directories and 250 images in '10_food_classes_10_percent/test/chicken_wings'.\n",
            "There are 0 directories and 250 images in '10_food_classes_10_percent/test/ramen'.\n",
            "There are 0 directories and 250 images in '10_food_classes_10_percent/test/sushi'.\n",
            "There are 0 directories and 250 images in '10_food_classes_10_percent/test/chicken_curry'.\n",
            "There are 0 directories and 250 images in '10_food_classes_10_percent/test/ice_cream'.\n",
            "There are 0 directories and 250 images in '10_food_classes_10_percent/test/grilled_salmon'.\n",
            "There are 10 directories and 0 images in '10_food_classes_10_percent/train'.\n",
            "There are 0 directories and 75 images in '10_food_classes_10_percent/train/hamburger'.\n",
            "There are 0 directories and 75 images in '10_food_classes_10_percent/train/fried_rice'.\n",
            "There are 0 directories and 75 images in '10_food_classes_10_percent/train/pizza'.\n",
            "There are 0 directories and 75 images in '10_food_classes_10_percent/train/steak'.\n",
            "There are 0 directories and 75 images in '10_food_classes_10_percent/train/chicken_wings'.\n",
            "There are 0 directories and 75 images in '10_food_classes_10_percent/train/ramen'.\n",
            "There are 0 directories and 75 images in '10_food_classes_10_percent/train/sushi'.\n",
            "There are 0 directories and 75 images in '10_food_classes_10_percent/train/chicken_curry'.\n",
            "There are 0 directories and 75 images in '10_food_classes_10_percent/train/ice_cream'.\n",
            "There are 0 directories and 75 images in '10_food_classes_10_percent/train/grilled_salmon'.\n"
          ]
        }
      ]
    },
    {
      "cell_type": "code",
      "source": [
        "train_dir=\"10_food_classes_10_percent/train\"\n",
        "\n",
        "test_dir=\"10_food_classes_10_percent/test\""
      ],
      "metadata": {
        "id": "txVWYeBKRcPx"
      },
      "execution_count": 8,
      "outputs": []
    },
    {
      "cell_type": "code",
      "source": [
        "img_size=(224,224)\n",
        "\n",
        "train_data10=tf.keras.preprocessing.image_dataset_from_directory(directory=train_dir,\n",
        "                                                                 image_size= img_size,\n",
        "                                                                 label_mode=\"categorical\",\n",
        "                                                                 batch_size=32)\n",
        "\n",
        "test_data= tf.keras.preprocessing.image_dataset_from_directory(directory=test_dir,\n",
        "                                                               image_size=img_size,\n",
        "                                                               label_mode=\"categorical\",\n",
        "                                                               )"
      ],
      "metadata": {
        "id": "QowiePymRq0E",
        "colab": {
          "base_uri": "https://localhost:8080/"
        },
        "outputId": "fc04d7ec-b436-4228-a7f6-889d2fb811b2"
      },
      "execution_count": 9,
      "outputs": [
        {
          "output_type": "stream",
          "name": "stdout",
          "text": [
            "Found 750 files belonging to 10 classes.\n",
            "Found 2500 files belonging to 10 classes.\n"
          ]
        }
      ]
    },
    {
      "cell_type": "code",
      "source": [
        "train_data10"
      ],
      "metadata": {
        "id": "eBtI-tUBS_AZ",
        "colab": {
          "base_uri": "https://localhost:8080/"
        },
        "outputId": "16d4f9ea-5424-424c-80f8-7c43146ded20"
      },
      "execution_count": 10,
      "outputs": [
        {
          "output_type": "execute_result",
          "data": {
            "text/plain": [
              "<_BatchDataset element_spec=(TensorSpec(shape=(None, 224, 224, 3), dtype=tf.float32, name=None), TensorSpec(shape=(None, 10), dtype=tf.float32, name=None))>"
            ]
          },
          "metadata": {},
          "execution_count": 10
        }
      ]
    },
    {
      "cell_type": "code",
      "source": [
        "#Baselinemod\n",
        "\n",
        "base_model =tf.keras.applications.EfficientNetB0(include_top=False)\n",
        "\n",
        "base_model.trainable=False\n",
        "\n",
        "inputs = tf.keras.layers.Input(shape=(224,224,3),name= \"Input_layer\")\n",
        "\n",
        "#x= tf.keras.layers.experimental.preprocessing.Rescaling(1/255.)(inputs)\n",
        "\n",
        "x=base_model(inputs)\n",
        "\n",
        "x= tf.keras.layers.GlobalAveragePooling2D(name=\"global_Average_pooling_layer\")(x)\n",
        "\n",
        "outputs=tf.keras.layers.Dense(10,activation=\"softmax\", name=\"output_layer\")(x)\n",
        "\n",
        "model_0 =tf.keras.Model(inputs, outputs)\n",
        "\n",
        "model_0.compile(loss=\"categorical_crossentropy\",\n",
        "                   optimizer=tf.keras.optimizers.Adam(),\n",
        "                   metrics=[\"accuracy\"])\n",
        "\n",
        "history_base=model_0.fit(train_data10,\n",
        "                            epochs=5,\n",
        "                            steps_per_epoch=len(train_data10),\n",
        "                            validation_data=test_data,\n",
        "                            validation_steps=int(0.25* len(test_data)),\n",
        "                            callbacks=[create_tensorboard_callback(\"transfer_learning\",\n",
        "                                                                    \"base_model\")])"
      ],
      "metadata": {
        "id": "J2KkyyORTEzO",
        "colab": {
          "base_uri": "https://localhost:8080/"
        },
        "outputId": "15ac6687-9cca-43b9-ba64-f9989d133a18"
      },
      "execution_count": null,
      "outputs": [
        {
          "output_type": "stream",
          "name": "stdout",
          "text": [
            "Downloading data from https://storage.googleapis.com/keras-applications/efficientnetb0_notop.h5\n",
            "16705208/16705208 [==============================] - 0s 0us/step\n"
          ]
        },
        {
          "output_type": "stream",
          "name": "stderr",
          "text": [
            "WARNING:tensorflow:Model failed to serialize as JSON. Ignoring... Unable to serialize [2.0896919 2.1128857 2.1081853] to JSON. Unrecognized type <class 'tensorflow.python.framework.ops.EagerTensor'>.\n"
          ]
        },
        {
          "output_type": "stream",
          "name": "stdout",
          "text": [
            "Saving TensorBoard log files to: transfer_learning/base_model/20230614-042605\n",
            "Epoch 1/5\n",
            "24/24 [==============================] - 149s 6s/step - loss: 1.8945 - accuracy: 0.4173 - val_loss: 1.3362 - val_accuracy: 0.6924\n",
            "Epoch 2/5\n",
            "24/24 [==============================] - 139s 6s/step - loss: 1.1208 - accuracy: 0.7653 - val_loss: 0.8770 - val_accuracy: 0.8240\n",
            "Epoch 3/5\n",
            "24/24 [==============================] - ETA: 0s - loss: 0.8011 - accuracy: 0.8133"
          ]
        }
      ]
    },
    {
      "cell_type": "code",
      "source": [
        "model_0.evaluate(test_data)"
      ],
      "metadata": {
        "id": "UpX45DptgQU9"
      },
      "execution_count": null,
      "outputs": []
    },
    {
      "cell_type": "code",
      "source": [
        "model_0.summary()"
      ],
      "metadata": {
        "id": "wpYf72M0hWi-"
      },
      "execution_count": null,
      "outputs": []
    },
    {
      "cell_type": "code",
      "source": [
        "plot_loss_curves(history_base)"
      ],
      "metadata": {
        "id": "4pX0f9yZh59m"
      },
      "execution_count": null,
      "outputs": []
    },
    {
      "cell_type": "code",
      "source": [
        "input_shape= (1,4,4,3)\n",
        "tf.random.set_seed(42)\n",
        "input_tensor= tf.random.normal(input_shape)"
      ],
      "metadata": {
        "id": "8dEEz95riymK"
      },
      "execution_count": null,
      "outputs": []
    },
    {
      "cell_type": "code",
      "source": [
        "input_tensor"
      ],
      "metadata": {
        "id": "5zB84ytSaqjh"
      },
      "execution_count": null,
      "outputs": []
    },
    {
      "cell_type": "code",
      "source": [
        "global_average= tf.keras.layers.GlobalAveragePooling2D()(input_tensor)"
      ],
      "metadata": {
        "id": "glO5IHF8auq6"
      },
      "execution_count": null,
      "outputs": []
    },
    {
      "cell_type": "code",
      "source": [
        "global_average.shape"
      ],
      "metadata": {
        "id": "Qiuszh7XbM0Q"
      },
      "execution_count": null,
      "outputs": []
    },
    {
      "cell_type": "code",
      "source": [
        "\n",
        "input_tensor.shape"
      ],
      "metadata": {
        "id": "D8ZJ4fpMbO3Q"
      },
      "execution_count": null,
      "outputs": []
    },
    {
      "cell_type": "code",
      "source": [
        "global_pool= tf.keras.layers.GlobalMaxPool2D()(input_tensor)"
      ],
      "metadata": {
        "id": "rZGgA6VVj7fM"
      },
      "execution_count": null,
      "outputs": []
    },
    {
      "cell_type": "code",
      "source": [
        "global_pool.shape"
      ],
      "metadata": {
        "id": "-eXMkq5tlfEn"
      },
      "execution_count": null,
      "outputs": []
    },
    {
      "cell_type": "code",
      "source": [],
      "metadata": {
        "id": "NiOM22iLlhP-"
      },
      "execution_count": null,
      "outputs": []
    }
  ]
}